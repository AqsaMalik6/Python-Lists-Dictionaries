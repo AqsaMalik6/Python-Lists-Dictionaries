{
 "cells": [
  {
   "cell_type": "code",
   "execution_count": 4,
   "id": "8ab5761d",
   "metadata": {},
   "outputs": [],
   "source": [
    "##json\n",
    "book={}\n",
    "book['tom']={\n",
    "    'name':'tom',\n",
    "    'address':'123 Allama iqbal colony faislabad',\n",
    "    'phone': 33097456237882 \n",
    "}\n",
    "\n",
    "book['bob']={\n",
    "    'name':'bob',\n",
    "    'address':'johar ali town',\n",
    "    'phone':7638365426\n",
    "}\n",
    "\n",
    "import json\n",
    "s=json.dumps(book)\n",
    "with open(r\"C:\\Users\\Qadri\\Downloads\\New folder\\book.txt\",\"w\") as f:   #write the json file in the form of txt\n",
    "    f.write(s)"
   ]
  },
  {
   "cell_type": "code",
   "execution_count": 5,
   "id": "408f498f",
   "metadata": {},
   "outputs": [
    {
     "name": "stdout",
     "output_type": "stream",
     "text": [
      "{\"tom\": {\"name\": \"tom\", \"address\": \"123 Allama iqbal colony faislabad\", \"phone\": 33097456237882}, \"bob\": {\"name\": \"bob\", \"address\": \"johar ali town\", \"phone\": 7638365426}}\n"
     ]
    }
   ],
   "source": [
    "f=open(r\"C:\\Users\\Qadri\\Downloads\\New folder\\book.txt\",\"r\")\n",
    "s=f.read()\n",
    "print(s)                        #read the json file"
   ]
  },
  {
   "cell_type": "code",
   "execution_count": 6,
   "id": "c3bede44",
   "metadata": {},
   "outputs": [
    {
     "name": "stdout",
     "output_type": "stream",
     "text": [
      "{'tom': {'name': 'tom', 'address': '123 Allama iqbal colony faislabad', 'phone': 33097456237882}, 'bob': {'name': 'bob', 'address': 'johar ali town', 'phone': 7638365426}}\n"
     ]
    }
   ],
   "source": [
    "import json\n",
    "book=json.loads(s)\n",
    "print(book)                     #read the json file"
   ]
  },
  {
   "cell_type": "code",
   "execution_count": 7,
   "id": "78b3eb95",
   "metadata": {},
   "outputs": [
    {
     "data": {
      "text/plain": [
       "dict"
      ]
     },
     "execution_count": 7,
     "metadata": {},
     "output_type": "execute_result"
    }
   ],
   "source": [
    "type(book)              #here the output telling us that the upper output is in dictionary type\n",
    "                        #while (\" \")that the output is in the string form"
   ]
  },
  {
   "cell_type": "code",
   "execution_count": 8,
   "id": "f943e50d",
   "metadata": {},
   "outputs": [
    {
     "data": {
      "text/plain": [
       "{'name': 'bob', 'address': 'johar ali town', 'phone': 7638365426}"
      ]
     },
     "execution_count": 8,
     "metadata": {},
     "output_type": "execute_result"
    }
   ],
   "source": [
    "book['bob']"
   ]
  },
  {
   "cell_type": "code",
   "execution_count": 9,
   "id": "7f31b2e1",
   "metadata": {},
   "outputs": [
    {
     "data": {
      "text/plain": [
       "{'name': 'tom',\n",
       " 'address': '123 Allama iqbal colony faislabad',\n",
       " 'phone': 33097456237882}"
      ]
     },
     "execution_count": 9,
     "metadata": {},
     "output_type": "execute_result"
    }
   ],
   "source": [
    "book['tom']"
   ]
  },
  {
   "cell_type": "code",
   "execution_count": 10,
   "id": "fa79eb09",
   "metadata": {},
   "outputs": [
    {
     "name": "stdout",
     "output_type": "stream",
     "text": [
      "{'name': 'tom', 'address': '123 Allama iqbal colony faislabad', 'phone': 33097456237882}\n",
      "{'name': 'bob', 'address': 'johar ali town', 'phone': 7638365426}\n"
     ]
    }
   ],
   "source": [
    "for person in book:\n",
    "    print(book[person])            #Each person with this complete about info"
   ]
  },
  {
   "cell_type": "code",
   "execution_count": 17,
   "id": "24b64803",
   "metadata": {},
   "outputs": [
    {
     "name": "stdout",
     "output_type": "stream",
     "text": [
      "Enter the first number:2\n",
      "Enter the second number:4\n",
      "Answer is : 0.5\n"
     ]
    }
   ],
   "source": [
    "###EXCEPTION HANDLING\n",
    "x= input(\"Enter the first number:\")\n",
    "y= input(\"Enter the second number:\")\n",
    "try:\n",
    "    z=int(x)/int(y)                                     #Exception Handling such as divided by 'Zero'\n",
    "except Exception as e:\n",
    "    print(\"Divisible by zero exception case\",e)\n",
    "    z=None\n",
    "print(\"Answer is :\",z)\n",
    "    "
   ]
  },
  {
   "cell_type": "code",
   "execution_count": 19,
   "id": "c5eeb99a",
   "metadata": {},
   "outputs": [
    {
     "name": "stdout",
     "output_type": "stream",
     "text": [
      "Enter the first number:2\n",
      "Enter the second number:0\n",
      "Divisible by zero exception case\n",
      "Answer is : None\n"
     ]
    }
   ],
   "source": [
    "###EXCEPTION HANDLING 2nd case\n",
    "x= input(\"Enter the first number:\")\n",
    "y= input(\"Enter the second number:\")\n",
    "try:\n",
    "    z=int(x)/int(y)                                     #Exception Handling such as divided by 'Zero'\n",
    "except ZeroDivisionError as e:                         \n",
    "    print(\"Divisible by zero exception case\")           #code diff is using 'ZeroDivisionError'in exception\n",
    "    z=None\n",
    "print(\"Answer is :\",z)\n",
    "    "
   ]
  },
  {
   "cell_type": "code",
   "execution_count": 1,
   "id": "f304d42e",
   "metadata": {},
   "outputs": [
    {
     "name": "stdout",
     "output_type": "stream",
     "text": [
      "hey\n",
      "you\n",
      "are\n",
      "awesome\n"
     ]
    }
   ],
   "source": [
    "##Iterators\n",
    "a =[\"hey\",\"you\",\"are\",\"awesome\"]\n",
    "for i in a:\n",
    "    print(i)"
   ]
  },
  {
   "cell_type": "code",
   "execution_count": 2,
   "id": "821ad5c5",
   "metadata": {},
   "outputs": [
    {
     "data": {
      "text/plain": [
       "['__add__',\n",
       " '__class__',\n",
       " '__class_getitem__',\n",
       " '__contains__',\n",
       " '__delattr__',\n",
       " '__delitem__',\n",
       " '__dir__',\n",
       " '__doc__',\n",
       " '__eq__',\n",
       " '__format__',\n",
       " '__ge__',\n",
       " '__getattribute__',\n",
       " '__getitem__',\n",
       " '__getstate__',\n",
       " '__gt__',\n",
       " '__hash__',\n",
       " '__iadd__',\n",
       " '__imul__',\n",
       " '__init__',\n",
       " '__init_subclass__',\n",
       " '__iter__',\n",
       " '__le__',\n",
       " '__len__',\n",
       " '__lt__',\n",
       " '__mul__',\n",
       " '__ne__',\n",
       " '__new__',\n",
       " '__reduce__',\n",
       " '__reduce_ex__',\n",
       " '__repr__',\n",
       " '__reversed__',\n",
       " '__rmul__',\n",
       " '__setattr__',\n",
       " '__setitem__',\n",
       " '__sizeof__',\n",
       " '__str__',\n",
       " '__subclasshook__',\n",
       " 'append',\n",
       " 'clear',\n",
       " 'copy',\n",
       " 'count',\n",
       " 'extend',\n",
       " 'index',\n",
       " 'insert',\n",
       " 'pop',\n",
       " 'remove',\n",
       " 'reverse',\n",
       " 'sort']"
      ]
     },
     "execution_count": 2,
     "metadata": {},
     "output_type": "execute_result"
    }
   ],
   "source": [
    "dir(a)"
   ]
  },
  {
   "cell_type": "code",
   "execution_count": 3,
   "id": "c602daef",
   "metadata": {},
   "outputs": [
    {
     "data": {
      "text/plain": [
       "<list_iterator at 0x1bddbc935e0>"
      ]
     },
     "execution_count": 3,
     "metadata": {},
     "output_type": "execute_result"
    }
   ],
   "source": [
    "itr=iter(a)\n",
    "itr"
   ]
  },
  {
   "cell_type": "code",
   "execution_count": 4,
   "id": "635c79de",
   "metadata": {},
   "outputs": [
    {
     "data": {
      "text/plain": [
       "'hey'"
      ]
     },
     "execution_count": 4,
     "metadata": {},
     "output_type": "execute_result"
    }
   ],
   "source": [
    "next(itr)"
   ]
  },
  {
   "cell_type": "code",
   "execution_count": 5,
   "id": "8a57208e",
   "metadata": {},
   "outputs": [
    {
     "data": {
      "text/plain": [
       "'you'"
      ]
     },
     "execution_count": 5,
     "metadata": {},
     "output_type": "execute_result"
    }
   ],
   "source": [
    "next(itr)"
   ]
  },
  {
   "cell_type": "code",
   "execution_count": 6,
   "id": "7e059d84",
   "metadata": {},
   "outputs": [
    {
     "data": {
      "text/plain": [
       "'are'"
      ]
     },
     "execution_count": 6,
     "metadata": {},
     "output_type": "execute_result"
    }
   ],
   "source": [
    "next(itr)"
   ]
  },
  {
   "cell_type": "code",
   "execution_count": 7,
   "id": "cba07307",
   "metadata": {},
   "outputs": [
    {
     "data": {
      "text/plain": [
       "'awesome'"
      ]
     },
     "execution_count": 7,
     "metadata": {},
     "output_type": "execute_result"
    }
   ],
   "source": [
    "next(itr)"
   ]
  },
  {
   "cell_type": "code",
   "execution_count": 10,
   "id": "84405674",
   "metadata": {},
   "outputs": [
    {
     "data": {
      "text/plain": [
       "'awesome'"
      ]
     },
     "execution_count": 10,
     "metadata": {},
     "output_type": "execute_result"
    }
   ],
   "source": [
    "itr=reversed(a)\n",
    "next(itr)"
   ]
  },
  {
   "cell_type": "code",
   "execution_count": 11,
   "id": "fe78eb3c",
   "metadata": {},
   "outputs": [
    {
     "data": {
      "text/plain": [
       "'are'"
      ]
     },
     "execution_count": 11,
     "metadata": {},
     "output_type": "execute_result"
    }
   ],
   "source": [
    "next(itr)"
   ]
  },
  {
   "cell_type": "code",
   "execution_count": 12,
   "id": "26c7aac7",
   "metadata": {},
   "outputs": [
    {
     "data": {
      "text/plain": [
       "'you'"
      ]
     },
     "execution_count": 12,
     "metadata": {},
     "output_type": "execute_result"
    }
   ],
   "source": [
    "next(itr)"
   ]
  },
  {
   "cell_type": "code",
   "execution_count": 16,
   "id": "b1bc60e2",
   "metadata": {},
   "outputs": [
    {
     "name": "stdout",
     "output_type": "stream",
     "text": [
      "hbo\n"
     ]
    }
   ],
   "source": [
    "class RemoteControl:\n",
    "    def __init__(self):\n",
    "        self.channels = ['hbo', 'cnn', 'nir', 'nie', 'nih']\n",
    "        self.index = -1\n",
    "    \n",
    "    def __iter__(self):\n",
    "        return self\n",
    "    \n",
    "    def __next__(self):\n",
    "        self.index += 1\n",
    "        if self.index == len(self.channels):                   ##iterators output\n",
    "            raise StopIteration\n",
    "        return self.channels[self.index]\n",
    "\n",
    "r = RemoteControl()\n",
    "itr = iter(r)\n",
    "print(next(itr))\n"
   ]
  },
  {
   "cell_type": "code",
   "execution_count": 18,
   "id": "9c76472b",
   "metadata": {},
   "outputs": [
    {
     "name": "stdout",
     "output_type": "stream",
     "text": [
      "nir\n"
     ]
    }
   ],
   "source": [
    "print(next(itr))"
   ]
  },
  {
   "cell_type": "code",
   "execution_count": 19,
   "id": "ef3c7217",
   "metadata": {},
   "outputs": [
    {
     "name": "stdout",
     "output_type": "stream",
     "text": [
      "cnn\n"
     ]
    }
   ],
   "source": [
    "def remote_control_next():\n",
    "    yield \"cnn\"\n",
    "    yield \"vtft\"\n",
    "    yield \"yfyf\"                            ##it is the generator output\n",
    "    \n",
    "itr=remote_control_next()\n",
    "print(next(itr))"
   ]
  },
  {
   "cell_type": "code",
   "execution_count": null,
   "id": "37fef5af",
   "metadata": {},
   "outputs": [],
   "source": []
  }
 ],
 "metadata": {
  "kernelspec": {
   "display_name": "Python 3 (ipykernel)",
   "language": "python",
   "name": "python3"
  },
  "language_info": {
   "codemirror_mode": {
    "name": "ipython",
    "version": 3
   },
   "file_extension": ".py",
   "mimetype": "text/x-python",
   "name": "python",
   "nbconvert_exporter": "python",
   "pygments_lexer": "ipython3",
   "version": "3.11.4"
  }
 },
 "nbformat": 4,
 "nbformat_minor": 5
}
